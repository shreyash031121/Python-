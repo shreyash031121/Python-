{
  "cells": [
    {
      "cell_type": "markdown",
      "metadata": {
        "id": "ANAlnX7vnSev"
      },
      "source": [
        "1. What is Python, and why is it popular?\n",
        "  - Python is a programming language that’s known for being simple and easy to use. It was created by Guido van Rossum and first released in 1991. One of the main reasons people love Python is because its code looks a lot like plain English, which makes it beginner-friendly and easy to understand, even if you’re new to programming.\n",
        "\n",
        "  - Python is popular because it can be used for so many things. People use it to build websites, create games, automate tasks, analyze data, and even develop artificial intelligence and machine learning programs. It’s kind of like a Swiss Army knife for coding.\n",
        "\n",
        "  - Another big reason Python is widely used is because of its massive collection of libraries (pre-written code that helps you do things faster) and the strong community behind it. If you ever get stuck, there’s a good chance someone else has already had the same problem and shared the solution online.\n",
        "\n",
        "2. What is an interpreter in Python?\n",
        "  - An interpreter in Python is a special program that reads and runs your Python code line by line. Instead of translating the whole program into machine language at once, the Python interpreter takes one line of code at a time, understands it, and then tells the computer what to do. This is why Python is often called an interpreted language.   \n",
        "\n",
        "3. What are pre-defined keywords in Python?\n",
        "  - Pre-defined keywords in Python are special words that are already built into the language. These words have specific meanings and are used to perform certain actions or control how the code runs. For example: if, while, def and many more.\n",
        "\n",
        "4. Can keywords be used as variable names\n",
        "  - No, keywords cannot be used as variable names in Python. Because keywords already have a special meaning in Python, and if you try to use them as variable names, Python will get confused and show an error.\n",
        "\n",
        "5. What is mutability in Python?\n",
        "  - Objects/containers whose state or value can not be changed after they are   created are called as immutuable objects or container.\n",
        "   String is a type of mutable object/ dosen't supports item assignmnet.\n",
        "\n",
        "6. Why are lists mutable, but tuples are immutable?\n",
        "  - In Python, lists are mutable, which means you can change their contents — add, remove, or update items. Tuples, on the other hand, are immutable, meaning once you create a tuple, you can’t change it.\n",
        "\n",
        "7. What is the difference between “==” and “is” operators in Python?\n",
        "  - In Python, both (==) and (is) are used for comparisons, but they check different things.\n",
        "  (==)checks whether the values are the same, even if the objects are different in memory.\n",
        "  (is) checks whether both variables point to the same object in memory.\n",
        "\n",
        "8. What are logical operators in Python?\n",
        "  - Logical operators in Python are used to combine or compare multiple conditions. They return either True or False, depending on the logic.\n",
        "\n",
        "    There are three main logical operators in Python:\n",
        "    - and\n",
        "    - or\n",
        "    - not\n",
        "\n",
        "9. What is type casting in Python?\n",
        "  - Type casting in Python means changing the data type of a value from one type to another. For example, you might want to convert:\n",
        "\n",
        "       -   a number into a string.\n",
        "\n",
        "       -   a string into an integer.\n",
        "\n",
        "       -  or a float into an integer.\n",
        "\n",
        "10. What is the difference between implicit and explicit type casting?\n",
        " - in implicit type casting python automatically changes the data type when needed, especially during operations involving different types. Whereas in explicit typocasting you manually tell Python to convert the data type using functions.\n",
        "\n",
        "11. 8 What is the purpose of conditional statements in Python?\n",
        "  - Conditional statements in Python are used to make decisions in your code. They allow your program to do different things depending on whether a condition is True or False.\n",
        "\n",
        "12. How does the elif statement work?\n",
        "  - The elif statement in Python stands for \"else if\". It lets you check multiple conditions, one after another. It works after an if statement and before an else statement.\n",
        "\n",
        "13. What is the difference between for and while loops?\n",
        "  - Both for and while loops are used to repeat a block of code, but they work in different ways and are used in different situations.\n",
        "\n",
        "      - For Loop is used when you know how many times to repeat.\n",
        "      - while Loop is used when you don’t know exactly how many times to repeat\n",
        "\n",
        "14. Describe a scenario where a while loop is more suitable than a for loop?\n",
        "  - A while loop is better when you don’t know in advance how many times the loop should run — you just want it to keep going until a certain condition is met.\n",
        "\n"
      ]
    },
    {
      "cell_type": "markdown",
      "metadata": {
        "id": "8eJwX9jB98Ck"
      },
      "source": [
        "                                 PRACTICAL QUESTIONS"
      ]
    },
    {
      "cell_type": "markdown",
      "metadata": {
        "id": "dM2Udwkb-Hog"
      },
      "source": [
        "1. Write a Python program to print \"Hello, World!\""
      ]
    },
    {
      "cell_type": "code",
      "execution_count": null,
      "metadata": {
        "colab": {
          "base_uri": "https://localhost:8080/"
        },
        "id": "amsQT_uH-EQu",
        "outputId": "45bd45e8-5902-4aa0-9c7c-f1a076b89038"
      },
      "outputs": [
        {
          "name": "stdout",
          "output_type": "stream",
          "text": [
            "Hello, World!\n"
          ]
        }
      ],
      "source": [
        "print(\"Hello, World!\")"
      ]
    },
    {
      "cell_type": "markdown",
      "metadata": {
        "id": "yItvtzLX-Zor"
      },
      "source": [
        "2. Write a Python program that displays your name and age."
      ]
    },
    {
      "cell_type": "code",
      "execution_count": 6,
      "metadata": {
        "colab": {
          "base_uri": "https://localhost:8080/"
        },
        "id": "KzY3ToKj-SQD",
        "outputId": "432c7a7b-b2d2-40ab-8c1c-61694244b8a4"
      },
      "outputs": [
        {
          "output_type": "stream",
          "name": "stdout",
          "text": [
            "My name is Shreyash\n",
            "I am 21 years old\n"
          ]
        }
      ],
      "source": [
        "name = \"Shreyash\"\n",
        "age = 21\n",
        "print(\"My name is\", name)\n",
        "print(\"I am\", age, \"years old\")"
      ]
    },
    {
      "cell_type": "markdown",
      "metadata": {
        "id": "GAWsCVqS-5Mm"
      },
      "source": [
        "3. Write code to print all the pre-defined keywords in Python using the keyword library."
      ]
    },
    {
      "cell_type": "code",
      "source": [
        "import keyword\n",
        "print(keyword.kwlist)\n"
      ],
      "metadata": {
        "colab": {
          "base_uri": "https://localhost:8080/"
        },
        "id": "XZUBzkyqAqDF",
        "outputId": "8b61c01a-4658-458f-d2a7-7c7edf19b4f1"
      },
      "execution_count": 10,
      "outputs": [
        {
          "output_type": "stream",
          "name": "stdout",
          "text": [
            "['False', 'None', 'True', 'and', 'as', 'assert', 'async', 'await', 'break', 'class', 'continue', 'def', 'del', 'elif', 'else', 'except', 'finally', 'for', 'from', 'global', 'if', 'import', 'in', 'is', 'lambda', 'nonlocal', 'not', 'or', 'pass', 'raise', 'return', 'try', 'while', 'with', 'yield']\n"
          ]
        }
      ]
    },
    {
      "cell_type": "markdown",
      "source": [
        "4. Write a program that checks if a given word is a Python keyword."
      ],
      "metadata": {
        "id": "rCl8W9XNBSG4"
      }
    },
    {
      "cell_type": "code",
      "source": [
        "import keyword\n",
        "word = input(\"Enter a word: \")\n",
        "if keyword.iskeyword(word):\n",
        "    print(f\"'{word}' is a Python keyword.\")\n",
        "else:\n",
        "    print(f\"'{word}' is NOT a Python keyword.\")\n"
      ],
      "metadata": {
        "colab": {
          "base_uri": "https://localhost:8080/"
        },
        "id": "-XcXLhjCBMij",
        "outputId": "83096931-ceaa-4023-e30a-cf2800e1a5ca"
      },
      "execution_count": 11,
      "outputs": [
        {
          "output_type": "stream",
          "name": "stdout",
          "text": [
            "Enter a word: class\n",
            "'class' is a Python keyword.\n"
          ]
        }
      ]
    },
    {
      "cell_type": "code",
      "source": [
        "import keyword\n",
        "word = input(\"Enter a word: \")\n",
        "if keyword.iskeyword(word):\n",
        "    print(f\"'{word}' is a Python keyword.\")\n",
        "else:\n",
        "    print(f\"'{word}' is NOT a Python keyword.\")\n"
      ],
      "metadata": {
        "colab": {
          "base_uri": "https://localhost:8080/"
        },
        "id": "U6SAazJxB-0D",
        "outputId": "3fa365e2-3afc-41bc-c360-635ae188d1a4"
      },
      "execution_count": 13,
      "outputs": [
        {
          "output_type": "stream",
          "name": "stdout",
          "text": [
            "Enter a word: pwskills\n",
            "'pwskills' is NOT a Python keyword.\n"
          ]
        }
      ]
    },
    {
      "cell_type": "markdown",
      "source": [
        "5. Create a list and tuple in Python, and demonstrate how attempting to change an element works differently\n",
        "for each."
      ],
      "metadata": {
        "id": "zMGghltNCNJe"
      }
    },
    {
      "cell_type": "code",
      "source": [],
      "metadata": {
        "id": "Xgds83dKCGvK"
      },
      "execution_count": 14,
      "outputs": []
    },
    {
      "cell_type": "markdown",
      "source": [
        "6.  Write a function to demonstrate the behavior of mutable and immutable arguments."
      ],
      "metadata": {
        "id": "6qlKrkDaDUUH"
      }
    },
    {
      "cell_type": "code",
      "source": [
        "def ml(list_param):\n",
        "  list_param.append(100)\n",
        "\n",
        "def mn(num):\n",
        "  num=num+100\n",
        "  return 100\n",
        "\n",
        "mylist=[1, 2, 3]\n",
        "ml(mylist)\n",
        "print(\"Modify list: \",mylist)\n",
        "\n",
        "nnum=10\n",
        "newnum=mn(nnum)\n",
        "print(\"Original number:\", nnum)\n",
        "print(\"Return number\", newnum)"
      ],
      "metadata": {
        "colab": {
          "base_uri": "https://localhost:8080/"
        },
        "id": "06i0DwRkDAy_",
        "outputId": "13e45b6f-a023-45d5-c6f6-eaeef509f480"
      },
      "execution_count": 19,
      "outputs": [
        {
          "output_type": "stream",
          "name": "stdout",
          "text": [
            "Modify list:  [1, 2, 3, 100]\n",
            "Original number: 10\n",
            "Return number 100\n"
          ]
        }
      ]
    },
    {
      "cell_type": "markdown",
      "source": [
        "7. Write a program that performs basic arithmetic operations on two user-input numbers."
      ],
      "metadata": {
        "id": "f9bnmMaNFAVG"
      }
    },
    {
      "cell_type": "code",
      "source": [
        "num1 = float(input(\"Enter the first number: \"))\n",
        "num2 = float(input(\"Enter the second number: \"))\n",
        "print(\"Addition:\", num1+num2)\n",
        "print(\"Subtraction:\", num1-num2)\n",
        "print(\"Multiplication:\", num1*num2)\n",
        "print(\"Division:\", num1/num2)"
      ],
      "metadata": {
        "colab": {
          "base_uri": "https://localhost:8080/"
        },
        "id": "_WCOeRitDiP-",
        "outputId": "55e7cc0a-155d-4b22-a0dc-987fdfb7ba8a"
      },
      "execution_count": 21,
      "outputs": [
        {
          "output_type": "stream",
          "name": "stdout",
          "text": [
            "Enter the first number: 5\n",
            "Enter the second number: 2\n",
            "Addition: 7.0\n",
            "Subtraction: 3.0\n",
            "Multiplication: 10.0\n",
            "Division: 2.5\n"
          ]
        }
      ]
    },
    {
      "cell_type": "markdown",
      "source": [
        "8. Write a program to demonstrate the use of logical operators."
      ],
      "metadata": {
        "id": "1VHnn_lSF-49"
      }
    },
    {
      "cell_type": "code",
      "source": [
        "x=True\n",
        "y=False\n",
        "print(\"x and y:\", x and y)\n",
        "print(\"x or y:\", x or y)\n",
        "print(\"not x:\", not x)"
      ],
      "metadata": {
        "colab": {
          "base_uri": "https://localhost:8080/"
        },
        "id": "sGxylvl2Fyo3",
        "outputId": "01b102fd-c72d-4135-ff39-4b40130b9a49"
      },
      "execution_count": 23,
      "outputs": [
        {
          "output_type": "stream",
          "name": "stdout",
          "text": [
            "x and y: False\n",
            "x or y: True\n",
            "not x: False\n"
          ]
        }
      ]
    },
    {
      "cell_type": "markdown",
      "source": [
        "9.  Write a Python program to convert user input from string to integer, float, and boolean types."
      ],
      "metadata": {
        "id": "lunI3e1XGoRy"
      }
    },
    {
      "cell_type": "code",
      "source": [
        "user_input=input(\"Enter any string: \")\n",
        "print(\"Interger is:\",int(user_input))\n",
        "print(\"Float is:\",float(user_input))\n",
        "print(\"Boolean is:\",bool(user_input))"
      ],
      "metadata": {
        "colab": {
          "base_uri": "https://localhost:8080/"
        },
        "id": "r8kGgvpSGWlk",
        "outputId": "99c267c3-d189-4caa-d72d-4dc2038beb6e"
      },
      "execution_count": 25,
      "outputs": [
        {
          "output_type": "stream",
          "name": "stdout",
          "text": [
            "Enter any string: 5\n",
            "Interger is: 5\n",
            "Float is: 5.0\n",
            "Boolean is: True\n"
          ]
        }
      ]
    },
    {
      "cell_type": "markdown",
      "source": [
        "10. Write code to demonstrate type casting with list elements"
      ],
      "metadata": {
        "id": "Gf-8fz_aHN1y"
      }
    },
    {
      "cell_type": "code",
      "source": [
        "lst=['1','2','3']\n",
        "int_lst=[int(i) for i in lst]\n",
        "print(int_lst)"
      ],
      "metadata": {
        "colab": {
          "base_uri": "https://localhost:8080/"
        },
        "id": "u9QNLgi-G6mL",
        "outputId": "8c731b44-e28b-46bb-a136-ac5ab4b5fe23"
      },
      "execution_count": 26,
      "outputs": [
        {
          "output_type": "stream",
          "name": "stdout",
          "text": [
            "[1, 2, 3]\n"
          ]
        }
      ]
    },
    {
      "cell_type": "markdown",
      "source": [
        "11. Write a program that checks if a number is positive, negative, or zero."
      ],
      "metadata": {
        "id": "O4mrKljrHrck"
      }
    },
    {
      "cell_type": "code",
      "source": [
        "num = float(input(\"Enter a number: \"))\n",
        "if num > 0:\n",
        "    print(\"The number is positive.\")\n",
        "elif num < 0:\n",
        "    print(\"The number is negative.\")\n",
        "else:\n",
        "    print(\"The number is zero.\")"
      ],
      "metadata": {
        "colab": {
          "base_uri": "https://localhost:8080/"
        },
        "id": "ysRf-RBaHoXG",
        "outputId": "6594c6c7-b8b3-4338-ede0-50b54cb4b3ee"
      },
      "execution_count": 27,
      "outputs": [
        {
          "output_type": "stream",
          "name": "stdout",
          "text": [
            "Enter a number: 100\n",
            "The number is positive.\n"
          ]
        }
      ]
    },
    {
      "cell_type": "markdown",
      "source": [
        "12. Write a for loop to print numbers from 1 to 10."
      ],
      "metadata": {
        "id": "rsexpue6H64P"
      }
    },
    {
      "cell_type": "code",
      "source": [
        "for i in range(1, 11):\n",
        "    print(i)\n"
      ],
      "metadata": {
        "colab": {
          "base_uri": "https://localhost:8080/"
        },
        "id": "6j2JErWSH36_",
        "outputId": "7be2251a-0046-40e4-bc28-9e5bb03d41ab"
      },
      "execution_count": 28,
      "outputs": [
        {
          "output_type": "stream",
          "name": "stdout",
          "text": [
            "1\n",
            "2\n",
            "3\n",
            "4\n",
            "5\n",
            "6\n",
            "7\n",
            "8\n",
            "9\n",
            "10\n"
          ]
        }
      ]
    },
    {
      "cell_type": "markdown",
      "source": [
        "13. Write a Python program to find the sum of all even numbers between 1 and 50"
      ],
      "metadata": {
        "id": "nBm188QsIZeU"
      }
    },
    {
      "cell_type": "code",
      "source": [
        "total=0\n",
        "for i in range(1, 51):\n",
        "    if i % 2 == 0:  # Check if the number is even\n",
        "        total=total+i\n",
        "print(\"Sum of all even numbers between 1 and 50 is:\", total)\n"
      ],
      "metadata": {
        "colab": {
          "base_uri": "https://localhost:8080/"
        },
        "id": "Qx44ocINIEGl",
        "outputId": "f53faf2f-1c8e-4566-d2fb-5173c0fc7f4c"
      },
      "execution_count": 30,
      "outputs": [
        {
          "output_type": "stream",
          "name": "stdout",
          "text": [
            "Sum of all even numbers between 1 and 50 is: 650\n"
          ]
        }
      ]
    },
    {
      "cell_type": "markdown",
      "source": [
        "14. Write a program to reverse a string using a while loop."
      ],
      "metadata": {
        "id": "ogk6No-GIx1B"
      }
    },
    {
      "cell_type": "code",
      "source": [
        "input_str = input(\"Enter a string: \")\n",
        "reversed_str = \"\"\n",
        "index = len(input_str) - 1\n",
        "while index >= 0:\n",
        "    reversed_str += input_str[index]\n",
        "    index -= 1\n",
        "print(\"Reversed string:\", reversed_str)\n"
      ],
      "metadata": {
        "colab": {
          "base_uri": "https://localhost:8080/"
        },
        "id": "S-2vesRbIU3H",
        "outputId": "0ed0e7ee-3ec8-432f-fc85-d26a972e8c1e"
      },
      "execution_count": 31,
      "outputs": [
        {
          "output_type": "stream",
          "name": "stdout",
          "text": [
            "Enter a string: Shreyash\n",
            "Reversed string: hsayerhS\n"
          ]
        }
      ]
    },
    {
      "cell_type": "markdown",
      "source": [
        "15. Write a Python program to calculate the factorial of a number provided by the user using a while loop."
      ],
      "metadata": {
        "id": "RWblE_ZeJLQU"
      }
    },
    {
      "cell_type": "code",
      "source": [
        "num = int(input(\"Enter a number: \"))\n",
        "factorial = 1\n",
        "i = 1\n",
        "\n",
        "while i <= num:\n",
        "  factorial = factorial * i\n",
        "  i = i + 1\n",
        "print(\"The factorial of\", num, \"is\", factorial)"
      ],
      "metadata": {
        "colab": {
          "base_uri": "https://localhost:8080/"
        },
        "id": "I5TB_-wMJHU9",
        "outputId": "30b8f658-7503-445a-f0f7-76127bf37ab4"
      },
      "execution_count": 35,
      "outputs": [
        {
          "output_type": "stream",
          "name": "stdout",
          "text": [
            "Enter a number: 5\n",
            "The factorial of 5 is 120\n"
          ]
        }
      ]
    }
  ],
  "metadata": {
    "colab": {
      "provenance": []
    },
    "kernelspec": {
      "display_name": "Python 3",
      "name": "python3"
    },
    "language_info": {
      "name": "python"
    }
  },
  "nbformat": 4,
  "nbformat_minor": 0
}